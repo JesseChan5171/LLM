{
 "cells": [
  {
   "cell_type": "markdown",
   "metadata": {},
   "source": [
    "## Train a character-level GPT on some text data\n",
    "\n",
    "The inputs here are simple text files, which we chop up to individual characters and then train GPT on. So you could say this is a char-transformer instead of a char-rnn. Doesn't quite roll off the tongue as well. In this example we will feed it some Shakespeare, which we'll get it to predict character-level."
   ]
  },
  {
   "cell_type": "code",
   "execution_count": 1,
   "metadata": {},
   "outputs": [],
   "source": [
    "# set up logging\n",
    "import logging\n",
    "logging.basicConfig(\n",
    "        format=\"%(asctime)s - %(levelname)s - %(name)s -   %(message)s\",\n",
    "        datefmt=\"%m/%d/%Y %H:%M:%S\",\n",
    "        level=logging.INFO,\n",
    ")"
   ]
  },
  {
   "cell_type": "code",
   "execution_count": 2,
   "metadata": {},
   "outputs": [],
   "source": [
    "# make deterministic\n",
    "from mingpt.utils import set_seed\n",
    "set_seed(42)"
   ]
  },
  {
   "cell_type": "code",
   "execution_count": 3,
   "metadata": {},
   "outputs": [],
   "source": [
    "import numpy as np\n",
    "import torch\n",
    "import torch.nn as nn\n",
    "from torch.nn import functional as F"
   ]
  },
  {
   "cell_type": "code",
   "execution_count": 4,
   "metadata": {},
   "outputs": [
    {
     "name": "stdout",
     "output_type": "stream",
     "text": [
      "Overwriting dataset.py\n"
     ]
    }
   ],
   "source": [
    "%%writefile dataset.py\n",
    "\n",
    "import math\n",
    "import torch\n",
    "from torch.utils.data import Dataset\n",
    "\n",
    "class CharDataset(Dataset):\n",
    "\n",
    "    def __init__(self, data, block_size):\n",
    "        chars = sorted(list(set(data)))\n",
    "        data_size, vocab_size = len(data), len(chars)\n",
    "        print('data has %d characters, %d unique.' % (data_size, vocab_size))\n",
    "        \n",
    "        self.stoi = { ch:i for i,ch in enumerate(chars) } # string to index\n",
    "        self.itos = { i:ch for i,ch in enumerate(chars) } # index to string\n",
    "        self.block_size = block_size\n",
    "        self.vocab_size = vocab_size\n",
    "        self.data = data\n",
    "    \n",
    "    def __len__(self):\n",
    "        return len(self.data) - self.block_size # Prevent the last slicing window to be out of index\n",
    "\n",
    "    def __getitem__(self, idx):\n",
    "        # grab a chunk of (block_size + 1) characters from the data\n",
    "        chunk = self.data[idx:idx + self.block_size + 1]\n",
    "        # encode every character to an integer\n",
    "        dix = [self.stoi[s] for s in chunk]\n",
    "        \"\"\"\n",
    "        arrange data and targets so that the first i elements of x\n",
    "        will be asked to predict the i-th element of y. Notice that\n",
    "        the eventual language model will actually make block_size\n",
    "        individual predictions at the same time based on this data,\n",
    "        so we are being clever and amortizing the cost of the forward\n",
    "        pass of the network. So for example if block_size is 4, then\n",
    "        we could e.g. sample a chunk of text \"hello\", the integers in\n",
    "        x will correspond to \"hell\" and in y will be \"ello\". This will\n",
    "        then actually \"multitask\" 4 separate examples at the same time\n",
    "        in the language model:\n",
    "        - given just \"h\", please predict \"e\" as next\n",
    "        - given \"he\" please predict \"l\" next\n",
    "        - given \"hel\" predict \"l\" next\n",
    "        - given \"hell\" predict \"o\" next\n",
    "        \n",
    "        In addition, because the DataLoader will create batches of examples,\n",
    "        every forward/backward pass during traning will simultaneously train\n",
    "        a LOT of predictions, amortizing a lot of computation. In particular,\n",
    "        for a batched input of integers X (B, T) where B is batch size and\n",
    "        T is block_size and Y (B, T), the network will during training be\n",
    "        simultaneously training to make B*T predictions, all at once! Of course,\n",
    "        at test time we can paralellize across batch B, but unlike during training\n",
    "        we cannot parallelize across the time dimension T - we have to run\n",
    "        a forward pass of the network to recover the next single character of the \n",
    "        sequence along each batch dimension, and repeatedly always feed in a next\n",
    "        character to get the next one.\n",
    "        \n",
    "        So yes there is a big asymmetry between train/test time of autoregressive\n",
    "        models. During training we can go B*T at a time with every forward pass,\n",
    "        but during test time we can only go B at a time, T times, with T forward \n",
    "        passes.\n",
    "        \"\"\"\n",
    "        x = torch.tensor(dix[:-1], dtype=torch.long) # except the last one\n",
    "        y = torch.tensor(dix[1:], dtype=torch.long) # except the first one\n",
    "        return x, y\n"
   ]
  },
  {
   "cell_type": "code",
   "execution_count": 5,
   "metadata": {},
   "outputs": [],
   "source": [
    "block_size = 128 # spatial extent of the model for its context                         "
   ]
  },
  {
   "cell_type": "code",
   "execution_count": 6,
   "metadata": {},
   "outputs": [
    {
     "name": "stdout",
     "output_type": "stream",
     "text": [
      "  % Total    % Received % Xferd  Average Speed   Time    Time     Time  Current\n",
      "                                 Dload  Upload   Total   Spent    Left  Speed\n",
      "100 1089k  100 1089k    0     0  2746k      0 --:--:-- --:--:-- --:--:-- 2743k\n"
     ]
    }
   ],
   "source": [
    "!curl https://raw.githubusercontent.com/karpathy/char-rnn/master/data/tinyshakespeare/input.txt -o input.txt"
   ]
  },
  {
   "cell_type": "code",
   "execution_count": 7,
   "metadata": {},
   "outputs": [
    {
     "name": "stdout",
     "output_type": "stream",
     "text": [
      "data has 1115394 characters, 65 unique.\n"
     ]
    }
   ],
   "source": [
    "# you can download this file at https://github.com/karpathy/char-rnn/blob/master/data/tinyshakespeare/input.txt\n",
    "from dataset import CharDataset\n",
    "text = open('input.txt', 'r').read() # don't worry we won't run out of file handles\n",
    "train_dataset = CharDataset(text, block_size) # one line of poem is roughly 50 characters"
   ]
  },
  {
   "cell_type": "code",
   "execution_count": 8,
   "metadata": {},
   "outputs": [
    {
     "name": "stderr",
     "output_type": "stream",
     "text": [
      "08/06/2024 14:55:10 - INFO - mingpt.model -   number of parameters: 2.535219e+07\n"
     ]
    }
   ],
   "source": [
    "from mingpt.model import GPT, GPTConfig\n",
    "mconf = GPTConfig(train_dataset.vocab_size, train_dataset.block_size,\n",
    "                  n_layer=8, n_head=8, n_embd=512)\n",
    "model = GPT(mconf)"
   ]
  },
  {
   "cell_type": "code",
   "execution_count": 9,
   "metadata": {},
   "outputs": [
    {
     "data": {
      "text/plain": [
       "True"
      ]
     },
     "execution_count": 9,
     "metadata": {},
     "output_type": "execute_result"
    }
   ],
   "source": [
    "import torch\n",
    "\n",
    "torch.backends.mps.is_available()"
   ]
  },
  {
   "cell_type": "code",
   "execution_count": 10,
   "metadata": {},
   "outputs": [
    {
     "name": "stdout",
     "output_type": "stream",
     "text": [
      "mps\n"
     ]
    },
    {
     "name": "stderr",
     "output_type": "stream",
     "text": [
      "epoch 1 iter 4: train loss 3.83668. lr 5.999982e-04:   0%|          | 5/2179 [03:43<27:02:52, 44.79s/it]\n"
     ]
    },
    {
     "ename": "KeyboardInterrupt",
     "evalue": "",
     "output_type": "error",
     "traceback": [
      "\u001b[0;31m---------------------------------------------------------------------------\u001b[0m",
      "\u001b[0;31mKeyboardInterrupt\u001b[0m                         Traceback (most recent call last)",
      "Cell \u001b[0;32mIn[10], line 8\u001b[0m\n\u001b[1;32m      4\u001b[0m tconf \u001b[38;5;241m=\u001b[39m TrainerConfig(max_epochs\u001b[38;5;241m=\u001b[39m\u001b[38;5;241m2\u001b[39m, batch_size\u001b[38;5;241m=\u001b[39m\u001b[38;5;241m512\u001b[39m, learning_rate\u001b[38;5;241m=\u001b[39m\u001b[38;5;241m6e-4\u001b[39m,\n\u001b[1;32m      5\u001b[0m                       lr_decay\u001b[38;5;241m=\u001b[39m\u001b[38;5;28;01mTrue\u001b[39;00m, warmup_tokens\u001b[38;5;241m=\u001b[39m\u001b[38;5;241m512\u001b[39m\u001b[38;5;241m*\u001b[39m\u001b[38;5;241m20\u001b[39m, final_tokens\u001b[38;5;241m=\u001b[39m\u001b[38;5;241m2\u001b[39m\u001b[38;5;241m*\u001b[39m\u001b[38;5;28mlen\u001b[39m(train_dataset)\u001b[38;5;241m*\u001b[39mblock_size,\n\u001b[1;32m      6\u001b[0m                       num_workers\u001b[38;5;241m=\u001b[39m\u001b[38;5;241m4\u001b[39m)\n\u001b[1;32m      7\u001b[0m trainer \u001b[38;5;241m=\u001b[39m Trainer(model, train_dataset, \u001b[38;5;28;01mNone\u001b[39;00m, tconf)\n\u001b[0;32m----> 8\u001b[0m \u001b[43mtrainer\u001b[49m\u001b[38;5;241;43m.\u001b[39;49m\u001b[43mtrain\u001b[49m\u001b[43m(\u001b[49m\u001b[43m)\u001b[49m\n",
      "File \u001b[0;32m~/Documents/MinGPT/student/mingpt-demo/mingpt/trainer.py:122\u001b[0m, in \u001b[0;36mTrainer.train\u001b[0;34m(self)\u001b[0m\n\u001b[1;32m    119\u001b[0m \u001b[38;5;28mself\u001b[39m\u001b[38;5;241m.\u001b[39mtokens \u001b[38;5;241m=\u001b[39m \u001b[38;5;241m0\u001b[39m \u001b[38;5;66;03m# counter used for learning rate decay\u001b[39;00m\n\u001b[1;32m    120\u001b[0m \u001b[38;5;28;01mfor\u001b[39;00m epoch \u001b[38;5;129;01min\u001b[39;00m \u001b[38;5;28mrange\u001b[39m(config\u001b[38;5;241m.\u001b[39mmax_epochs):\n\u001b[0;32m--> 122\u001b[0m     \u001b[43mrun_epoch\u001b[49m\u001b[43m(\u001b[49m\u001b[38;5;124;43m'\u001b[39;49m\u001b[38;5;124;43mtrain\u001b[39;49m\u001b[38;5;124;43m'\u001b[39;49m\u001b[43m)\u001b[49m\n\u001b[1;32m    123\u001b[0m     \u001b[38;5;28;01mif\u001b[39;00m \u001b[38;5;28mself\u001b[39m\u001b[38;5;241m.\u001b[39mtest_dataset \u001b[38;5;129;01mis\u001b[39;00m \u001b[38;5;129;01mnot\u001b[39;00m \u001b[38;5;28;01mNone\u001b[39;00m:\n\u001b[1;32m    124\u001b[0m         test_loss \u001b[38;5;241m=\u001b[39m run_epoch(\u001b[38;5;124m'\u001b[39m\u001b[38;5;124mtest\u001b[39m\u001b[38;5;124m'\u001b[39m)\n",
      "File \u001b[0;32m~/Documents/MinGPT/student/mingpt-demo/mingpt/trainer.py:84\u001b[0m, in \u001b[0;36mTrainer.train.<locals>.run_epoch\u001b[0;34m(split)\u001b[0m\n\u001b[1;32m     82\u001b[0m     logits, loss \u001b[38;5;241m=\u001b[39m model(x, y)\n\u001b[1;32m     83\u001b[0m     loss \u001b[38;5;241m=\u001b[39m loss\u001b[38;5;241m.\u001b[39mmean() \u001b[38;5;66;03m# collapse all losses if they are scattered on multiple gpus\u001b[39;00m\n\u001b[0;32m---> 84\u001b[0m     losses\u001b[38;5;241m.\u001b[39mappend(\u001b[43mloss\u001b[49m\u001b[38;5;241;43m.\u001b[39;49m\u001b[43mitem\u001b[49m\u001b[43m(\u001b[49m\u001b[43m)\u001b[49m)\n\u001b[1;32m     86\u001b[0m \u001b[38;5;28;01mif\u001b[39;00m is_train:\n\u001b[1;32m     87\u001b[0m \n\u001b[1;32m     88\u001b[0m     \u001b[38;5;66;03m# backprop and update the parameters\u001b[39;00m\n\u001b[1;32m     89\u001b[0m     model\u001b[38;5;241m.\u001b[39mzero_grad()\n",
      "\u001b[0;31mKeyboardInterrupt\u001b[0m: "
     ]
    }
   ],
   "source": [
    "from mingpt.trainer import Trainer, TrainerConfig\n",
    "\n",
    "# initialize a trainer instance and kick off training\n",
    "tconf = TrainerConfig(max_epochs=2, batch_size=512, learning_rate=6e-4,\n",
    "                      lr_decay=True, warmup_tokens=512*20, final_tokens=2*len(train_dataset)*block_size,\n",
    "                      num_workers=4)\n",
    "trainer = Trainer(model, train_dataset, None, tconf)\n",
    "trainer.train()"
   ]
  },
  {
   "cell_type": "code",
   "execution_count": 11,
   "metadata": {},
   "outputs": [
    {
     "name": "stdout",
     "output_type": "stream",
     "text": [
      "O God, O God!nahoo\n",
      "sh\n",
      "rrs\n",
      "tateaientraietnsrertaaaheteoni\n",
      "rtaaaaahaa\n",
      "htnntihttth\n",
      "th\n",
      "ehsosotera\n",
      "es\n",
      "rtrsrheihnrhhnrnehehehoinrnioeh\n",
      "n\n",
      "hhasrhhsetts\n",
      "iish\n",
      "tsa\n",
      "t\n",
      "soirasnasneaise\n",
      "he\n",
      "\n",
      "hnthhi\n",
      "irihatitaiastrarooehroorihs\n",
      "iosthrass\n",
      "sitnhnsrstnt\n",
      "\n",
      "\n",
      "ssen\n",
      "tireeeeaeaehsohtenehserrn\n",
      "arinhsthhaootitsshsosroaahrrsroosahrenossttathaasna\n",
      "\n",
      "nienionaiasnhnhniosonnntiitieshnotoiriarr\n",
      "shi\n",
      "nsosnnsn\n",
      "thisthrt\n",
      "ooo\n",
      "srhanhhs\n",
      "nih\n",
      "niritsaoonstansoashtrrtasoeoesatin\n",
      "e\n",
      "enrerntt\n",
      "rie\n",
      "nss\n",
      "h\n",
      "ihrhonit\n",
      "eahrr\n",
      "eatahterrhstrr\n",
      "ron\n",
      "r\n",
      "ohhtsaeasea\n",
      "thohstein\n",
      "\n",
      "aa\n",
      "asnoihr\n",
      "rnsh\n",
      "nsisraateanaoottsthnht\n",
      "seaet\n",
      "harthnhrheeerniehthstirirhohsrinshttaossntatheh\n",
      "n\n",
      "tsn\n",
      "a\n",
      "hi\n",
      "hni\n",
      "raihrsrr\n",
      "nrsihhiaeeaitta\n",
      "\n",
      "otr\n",
      "eniahro\n",
      "sartheoii\n",
      "hhothsrhsaotrearrtrrh\n",
      "\n",
      "oiaei\n",
      "isiaohrehiartsoaaeorstatoe\n",
      "stohhtrsaeat\n",
      "eorheeetosttttirnooo\n",
      "htaaase\n",
      "htiroinheeasnornraehh\n",
      "tonrner\n",
      "hirhtsrrsa\n",
      "\n",
      "ornatsahesiereseoeraeiehhshisshre\n",
      "hest\n",
      "oiisonetraoanentotinnii\n",
      "aottohthetrhrs\n",
      "nnith\n",
      "iteniaaaseratahnashntet\n",
      "haoe\n",
      "srsnha\n",
      "tntititnoos\n",
      "rt\n",
      "ashaoti\n",
      "ti\n",
      "sst\n",
      "oenitieatrtershttrotsaohaaira\n",
      "hnnhiannsantohsn\n",
      "snitt\n",
      "hehoatriiehnhstrresreeohsio\n",
      "orsrooato\n",
      "nantnenitttheornnrsthsteirhnhsrh\n",
      "eitrret\n",
      "ntirhtrntohhttothse\n",
      "hh\n",
      "n\n",
      "itraioat\n",
      "thnonhetththotatothihnioartt\n",
      "\n",
      "i\n",
      "eeehtssehat\n",
      "stthinorn\n",
      "otte\n",
      "areotsareaetaroensoirhhnaothtrntrttoiihrnhoniotetiahasnosaiierhr\n",
      "rorhhr\n",
      "ttaeoeeh\n",
      "h\n",
      "ehosnaeaoseeheerars\n",
      "ss\n",
      "ea\n",
      "inaesioitrsorno\n",
      "hohhsnseisarhhsrhhsh\n",
      "aersnetn\n",
      "hatnt\n",
      "rhohthieeas\n",
      "a\n",
      "tiisarhrinhee\n",
      "nntsnttnhtohonnosihoohn\n",
      "stisso\n",
      "steai\n",
      "t\n",
      "ahitattoistotihttarsor\n",
      "hi\n",
      "itieseshonio\n",
      "oratoerasirranhh\n",
      "nhhhniosth\n",
      "eiehaantritsei\n",
      "hnaoi\n",
      "teoaahthieitotresnteoh\n",
      "orena\n",
      "\n",
      "tashar\n",
      "otonho\n",
      "noa\n",
      "sehahtthhehhnrninttrsaohi\n",
      "nttetorahiehtssenahhoheesnhiestten\n",
      "\n",
      "nsrarahhrtaitnoeio\n",
      "shtioinsatohitnssnsrheihhoronastre\n",
      "eaeonsrrheranthe\n",
      "hi\n",
      "htahsitahhront\n",
      "hsesttrtthhoit\n",
      "irhhratnrtheesataaresosoitota\n",
      "\n",
      "iotnisttnhehrhhiiseiio\n",
      "\n",
      "hnh\n",
      "hhnenrtaanshh\n",
      "rshnins\n",
      "trhoraseereitertt\n",
      "ehtteehtsohoaah\n",
      "honn\n",
      "hintrohhoa\n",
      "eeoa\n",
      "stesttrrteosr\n",
      "itihneaa\n",
      "risioeth\n",
      "\n",
      "io\n",
      "innaatettir\n",
      "ntrrnttrotoharo\n",
      "nhtstihoi\n",
      "ansanoneatt\n",
      "hahht\n",
      "hhriaaatsnsiios\n",
      "tnarnasnrtonsaitittrnnrorsthaorrahattahhtaiatnatrnn\n",
      "i\n"
     ]
    }
   ],
   "source": [
    "# alright, let's sample some character-level Shakespeare\n",
    "from mingpt.utils import sample\n",
    "\n",
    "context = \"O God, O God!\"\n",
    "x = torch.tensor([train_dataset.stoi[s] for s in context], dtype=torch.long)[None,...].to(trainer.device)\n",
    "y = sample(model, x, 2000, temperature=1.0, sample=True, top_k=10)[0]\n",
    "completion = ''.join([train_dataset.itos[int(i)] for i in y])\n",
    "print(completion)"
   ]
  },
  {
   "cell_type": "code",
   "execution_count": null,
   "metadata": {},
   "outputs": [],
   "source": [
    "# well that was fun"
   ]
  }
 ],
 "metadata": {
  "kernelspec": {
   "display_name": "Python 3",
   "language": "python",
   "name": "python3"
  },
  "language_info": {
   "codemirror_mode": {
    "name": "ipython",
    "version": 3
   },
   "file_extension": ".py",
   "mimetype": "text/x-python",
   "name": "python",
   "nbconvert_exporter": "python",
   "pygments_lexer": "ipython3",
   "version": "3.10.14"
  }
 },
 "nbformat": 4,
 "nbformat_minor": 4
}
